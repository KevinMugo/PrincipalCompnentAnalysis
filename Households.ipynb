{
 "cells": [
  {
   "cell_type": "markdown",
   "id": "88de5612",
   "metadata": {},
   "source": [
    "<h2>PRINCIPAL COMPONENT ANALYSIS</h2>\n",
    "<h3>Facilitator: Kevin Mugo Mwaniki</h3>"
   ]
  },
  {
   "cell_type": "code",
   "execution_count": 71,
   "id": "1ba0b8fe",
   "metadata": {},
   "outputs": [],
   "source": [
    "#Used in the handling of DataFrames\n",
    "import pandas as pd\n",
    "#Used in the handling of arrays\n",
    "import numpy as np\n",
    "#Data visualization\n",
    "import matplotlib.pyplot as plt\n",
    "import seaborn as sns\n",
    "%matplotlib inline"
   ]
  },
  {
   "cell_type": "code",
   "execution_count": 4,
   "id": "d867fcc9",
   "metadata": {},
   "outputs": [],
   "source": [
    "df = pd.read_csv(\"../data/Households_by_Number_of_Dwelling_Units_and_County_2009.csv\")"
   ]
  },
  {
   "cell_type": "markdown",
   "id": "0432295c",
   "metadata": {},
   "source": [
    "<p>The code below is used to sample the first five coluns in the dataset</p>"
   ]
  },
  {
   "cell_type": "code",
   "execution_count": 5,
   "id": "c025b0c3",
   "metadata": {
    "scrolled": false
   },
   "outputs": [
    {
     "data": {
      "text/html": [
       "<div>\n",
       "<style scoped>\n",
       "    .dataframe tbody tr th:only-of-type {\n",
       "        vertical-align: middle;\n",
       "    }\n",
       "\n",
       "    .dataframe tbody tr th {\n",
       "        vertical-align: top;\n",
       "    }\n",
       "\n",
       "    .dataframe thead th {\n",
       "        text-align: right;\n",
       "    }\n",
       "</style>\n",
       "<table border=\"1\" class=\"dataframe\">\n",
       "  <thead>\n",
       "    <tr style=\"text-align: right;\">\n",
       "      <th></th>\n",
       "      <th>County</th>\n",
       "      <th>Location</th>\n",
       "      <th>Dwelling_Units_</th>\n",
       "      <th>Households</th>\n",
       "      <th>Habitable_Rooms_</th>\n",
       "      <th>Male_Population</th>\n",
       "      <th>Female_Population</th>\n",
       "      <th>Total_Population</th>\n",
       "      <th>Persons_per_room</th>\n",
       "      <th>County_Centroid</th>\n",
       "      <th>OBJECTID</th>\n",
       "    </tr>\n",
       "  </thead>\n",
       "  <tbody>\n",
       "    <tr>\n",
       "      <th>0</th>\n",
       "      <td>NAIROBI</td>\n",
       "      <td>Overall</td>\n",
       "      <td>1229183</td>\n",
       "      <td>985016</td>\n",
       "      <td>1741017</td>\n",
       "      <td>1584836</td>\n",
       "      <td>1525025</td>\n",
       "      <td>3109861</td>\n",
       "      <td>1.8</td>\n",
       "      <td>(-1.2926489320000001, 36.864854780000002)</td>\n",
       "      <td>0</td>\n",
       "    </tr>\n",
       "    <tr>\n",
       "      <th>1</th>\n",
       "      <td>NYANDARUA</td>\n",
       "      <td>Overall</td>\n",
       "      <td>285036</td>\n",
       "      <td>143879</td>\n",
       "      <td>501260</td>\n",
       "      <td>291574</td>\n",
       "      <td>303847</td>\n",
       "      <td>595421</td>\n",
       "      <td>1.2</td>\n",
       "      <td>(-0.32014949999999998, 36.480091790000003)</td>\n",
       "      <td>1</td>\n",
       "    </tr>\n",
       "    <tr>\n",
       "      <th>2</th>\n",
       "      <td>NYANDARUA</td>\n",
       "      <td>Rural</td>\n",
       "      <td>234446</td>\n",
       "      <td>113470</td>\n",
       "      <td>413130</td>\n",
       "      <td>235473</td>\n",
       "      <td>245341</td>\n",
       "      <td>480814</td>\n",
       "      <td>1.2</td>\n",
       "      <td>(-0.32014949999999998, 36.480091790000003)</td>\n",
       "      <td>2</td>\n",
       "    </tr>\n",
       "    <tr>\n",
       "      <th>3</th>\n",
       "      <td>NYANDARUA</td>\n",
       "      <td>Urban</td>\n",
       "      <td>50590</td>\n",
       "      <td>30409</td>\n",
       "      <td>88130</td>\n",
       "      <td>56101</td>\n",
       "      <td>58506</td>\n",
       "      <td>114607</td>\n",
       "      <td>1.3</td>\n",
       "      <td>(-0.32014949999999998, 36.480091790000003)</td>\n",
       "      <td>3</td>\n",
       "    </tr>\n",
       "    <tr>\n",
       "      <th>4</th>\n",
       "      <td>NYERI</td>\n",
       "      <td>Overall</td>\n",
       "      <td>383817</td>\n",
       "      <td>201703</td>\n",
       "      <td>703951</td>\n",
       "      <td>336556</td>\n",
       "      <td>352881</td>\n",
       "      <td>689437</td>\n",
       "      <td>1.0</td>\n",
       "      <td>(-0.34295653199999998, 36.953878789999997)</td>\n",
       "      <td>4</td>\n",
       "    </tr>\n",
       "  </tbody>\n",
       "</table>\n",
       "</div>"
      ],
      "text/plain": [
       "       County Location  Dwelling_Units_  Households  Habitable_Rooms_  \\\n",
       "0    NAIROBI   Overall          1229183      985016           1741017   \n",
       "1  NYANDARUA   Overall           285036      143879            501260   \n",
       "2  NYANDARUA    Rural            234446      113470            413130   \n",
       "3  NYANDARUA    Urban             50590       30409             88130   \n",
       "4      NYERI   Overall           383817      201703            703951   \n",
       "\n",
       "   Male_Population  Female_Population  Total_Population  Persons_per_room  \\\n",
       "0          1584836            1525025           3109861               1.8   \n",
       "1           291574             303847            595421               1.2   \n",
       "2           235473             245341            480814               1.2   \n",
       "3            56101              58506            114607               1.3   \n",
       "4           336556             352881            689437               1.0   \n",
       "\n",
       "                              County_Centroid  OBJECTID  \n",
       "0   (-1.2926489320000001, 36.864854780000002)         0  \n",
       "1  (-0.32014949999999998, 36.480091790000003)         1  \n",
       "2  (-0.32014949999999998, 36.480091790000003)         2  \n",
       "3  (-0.32014949999999998, 36.480091790000003)         3  \n",
       "4  (-0.34295653199999998, 36.953878789999997)         4  "
      ]
     },
     "execution_count": 5,
     "metadata": {},
     "output_type": "execute_result"
    }
   ],
   "source": [
    "df.head()"
   ]
  },
  {
   "cell_type": "markdown",
   "id": "1af8ee8d",
   "metadata": {},
   "source": [
    "<p>The code below is used to get the number of rows and columns in the dataset</p>"
   ]
  },
  {
   "cell_type": "code",
   "execution_count": 6,
   "id": "3ee3665c",
   "metadata": {
    "scrolled": true
   },
   "outputs": [
    {
     "data": {
      "text/plain": [
       "(72, 11)"
      ]
     },
     "execution_count": 6,
     "metadata": {},
     "output_type": "execute_result"
    }
   ],
   "source": [
    "df.shape"
   ]
  },
  {
   "cell_type": "markdown",
   "id": "018616ee",
   "metadata": {},
   "source": [
    "<h2>Daat types in the dataset</h2>\n",
    "<p>The cell below is used to briefly analyze the data types in the dataset of the project</p>"
   ]
  },
  {
   "cell_type": "code",
   "execution_count": 17,
   "id": "82019023",
   "metadata": {
    "scrolled": true
   },
   "outputs": [
    {
     "data": {
      "text/plain": [
       "County                object\n",
       "Location              object\n",
       "Dwelling_Units_        int64\n",
       "Households             int64\n",
       "Habitable_Rooms_       int64\n",
       "Male_Population        int64\n",
       "Female_Population      int64\n",
       "Total_Population       int64\n",
       "Persons_per_room     float64\n",
       "County_Centroid       object\n",
       "OBJECTID               int64\n",
       "dtype: object"
      ]
     },
     "execution_count": 17,
     "metadata": {},
     "output_type": "execute_result"
    }
   ],
   "source": [
    "df.dtypes"
   ]
  },
  {
   "cell_type": "markdown",
   "id": "c06769c5",
   "metadata": {},
   "source": [
    "<p>The data types can be summarized as follows statistically:</p>"
   ]
  },
  {
   "cell_type": "code",
   "execution_count": 25,
   "id": "720b5489",
   "metadata": {},
   "outputs": [
    {
     "data": {
      "text/html": [
       "<div>\n",
       "<style scoped>\n",
       "    .dataframe tbody tr th:only-of-type {\n",
       "        vertical-align: middle;\n",
       "    }\n",
       "\n",
       "    .dataframe tbody tr th {\n",
       "        vertical-align: top;\n",
       "    }\n",
       "\n",
       "    .dataframe thead th {\n",
       "        text-align: right;\n",
       "    }\n",
       "</style>\n",
       "<table border=\"1\" class=\"dataframe\">\n",
       "  <thead>\n",
       "    <tr style=\"text-align: right;\">\n",
       "      <th></th>\n",
       "      <th>counts</th>\n",
       "    </tr>\n",
       "  </thead>\n",
       "  <tbody>\n",
       "    <tr>\n",
       "      <th>int64</th>\n",
       "      <td>7</td>\n",
       "    </tr>\n",
       "    <tr>\n",
       "      <th>object</th>\n",
       "      <td>3</td>\n",
       "    </tr>\n",
       "    <tr>\n",
       "      <th>float64</th>\n",
       "      <td>1</td>\n",
       "    </tr>\n",
       "  </tbody>\n",
       "</table>\n",
       "</div>"
      ],
      "text/plain": [
       "         counts\n",
       "int64         7\n",
       "object        3\n",
       "float64       1"
      ]
     },
     "execution_count": 25,
     "metadata": {},
     "output_type": "execute_result"
    }
   ],
   "source": [
    "cols = ['counts']\n",
    "dftypes = pd.DataFrame(df.dtypes.value_counts())\n",
    "dftypes.columns = cols\n",
    "dftypes"
   ]
  },
  {
   "cell_type": "markdown",
   "id": "45b6b259",
   "metadata": {},
   "source": [
    "<h2>Missing values</h2>\n",
    "<p>Missing values are usually identified by the name <b>NaN</b>. From the cell below, the data has no missing values</p>"
   ]
  },
  {
   "cell_type": "code",
   "execution_count": 11,
   "id": "e231bfe7",
   "metadata": {
    "scrolled": true
   },
   "outputs": [
    {
     "data": {
      "text/plain": [
       "County               0\n",
       "Location             0\n",
       "Dwelling_Units_      0\n",
       "Households           0\n",
       "Habitable_Rooms_     0\n",
       "Male_Population      0\n",
       "Female_Population    0\n",
       "Total_Population     0\n",
       "Persons_per_room     0\n",
       "County_Centroid      0\n",
       "OBJECTID             0\n",
       "dtype: int64"
      ]
     },
     "execution_count": 11,
     "metadata": {},
     "output_type": "execute_result"
    }
   ],
   "source": [
    "df.isnull().sum()"
   ]
  },
  {
   "cell_type": "markdown",
   "id": "645585fb",
   "metadata": {},
   "source": [
    "<h2>Handling of Missing Values</h2>\n",
    "<p>If there are missing values, they can be replaced using the following methodologies:</p>\n",
    "<ol>\n",
    "    <li>Forward filling</li>\n",
    "    <li>Backward filling</li>\n",
    "    <li>Mean</li>\n",
    "    <li>Median</li>\n",
    "</ol>\n"
   ]
  },
  {
   "cell_type": "code",
   "execution_count": null,
   "id": "3c72e7e6",
   "metadata": {},
   "outputs": [],
   "source": [
    "#df.fillna(df.mean(), inplace = True)"
   ]
  },
  {
   "cell_type": "markdown",
   "id": "3f002e19",
   "metadata": {},
   "source": [
    "<h2>Encoding of the data</h2>\n",
    "<p>Standard scaling does not support data that has other formats like strings. To solve this, the data is duplicated using the <b>df.copy()</b> function. From there, these strings are replaced with numbers during the encoding process. The integers are then scaled to the required metrics.</p>"
   ]
  },
  {
   "cell_type": "code",
   "execution_count": 37,
   "id": "9a3074b7",
   "metadata": {
    "scrolled": true
   },
   "outputs": [
    {
     "data": {
      "text/html": [
       "<div>\n",
       "<style scoped>\n",
       "    .dataframe tbody tr th:only-of-type {\n",
       "        vertical-align: middle;\n",
       "    }\n",
       "\n",
       "    .dataframe tbody tr th {\n",
       "        vertical-align: top;\n",
       "    }\n",
       "\n",
       "    .dataframe thead th {\n",
       "        text-align: right;\n",
       "    }\n",
       "</style>\n",
       "<table border=\"1\" class=\"dataframe\">\n",
       "  <thead>\n",
       "    <tr style=\"text-align: right;\">\n",
       "      <th></th>\n",
       "      <th>County</th>\n",
       "      <th>Location</th>\n",
       "      <th>Dwelling_Units_</th>\n",
       "      <th>Households</th>\n",
       "      <th>Habitable_Rooms_</th>\n",
       "      <th>Male_Population</th>\n",
       "      <th>Female_Population</th>\n",
       "      <th>Total_Population</th>\n",
       "      <th>Persons_per_room</th>\n",
       "      <th>County_Centroid</th>\n",
       "      <th>OBJECTID</th>\n",
       "    </tr>\n",
       "  </thead>\n",
       "  <tbody>\n",
       "    <tr>\n",
       "      <th>0</th>\n",
       "      <td>NAIROBI</td>\n",
       "      <td>Overall</td>\n",
       "      <td>1229183</td>\n",
       "      <td>985016</td>\n",
       "      <td>1741017</td>\n",
       "      <td>1584836</td>\n",
       "      <td>1525025</td>\n",
       "      <td>3109861</td>\n",
       "      <td>1.8</td>\n",
       "      <td>(-1.2926489320000001, 36.864854780000002)</td>\n",
       "      <td>0</td>\n",
       "    </tr>\n",
       "    <tr>\n",
       "      <th>1</th>\n",
       "      <td>NYANDARUA</td>\n",
       "      <td>Overall</td>\n",
       "      <td>285036</td>\n",
       "      <td>143879</td>\n",
       "      <td>501260</td>\n",
       "      <td>291574</td>\n",
       "      <td>303847</td>\n",
       "      <td>595421</td>\n",
       "      <td>1.2</td>\n",
       "      <td>(-0.32014949999999998, 36.480091790000003)</td>\n",
       "      <td>1</td>\n",
       "    </tr>\n",
       "    <tr>\n",
       "      <th>2</th>\n",
       "      <td>NYANDARUA</td>\n",
       "      <td>Rural</td>\n",
       "      <td>234446</td>\n",
       "      <td>113470</td>\n",
       "      <td>413130</td>\n",
       "      <td>235473</td>\n",
       "      <td>245341</td>\n",
       "      <td>480814</td>\n",
       "      <td>1.2</td>\n",
       "      <td>(-0.32014949999999998, 36.480091790000003)</td>\n",
       "      <td>2</td>\n",
       "    </tr>\n",
       "    <tr>\n",
       "      <th>3</th>\n",
       "      <td>NYANDARUA</td>\n",
       "      <td>Urban</td>\n",
       "      <td>50590</td>\n",
       "      <td>30409</td>\n",
       "      <td>88130</td>\n",
       "      <td>56101</td>\n",
       "      <td>58506</td>\n",
       "      <td>114607</td>\n",
       "      <td>1.3</td>\n",
       "      <td>(-0.32014949999999998, 36.480091790000003)</td>\n",
       "      <td>3</td>\n",
       "    </tr>\n",
       "    <tr>\n",
       "      <th>4</th>\n",
       "      <td>NYERI</td>\n",
       "      <td>Overall</td>\n",
       "      <td>383817</td>\n",
       "      <td>201703</td>\n",
       "      <td>703951</td>\n",
       "      <td>336556</td>\n",
       "      <td>352881</td>\n",
       "      <td>689437</td>\n",
       "      <td>1.0</td>\n",
       "      <td>(-0.34295653199999998, 36.953878789999997)</td>\n",
       "      <td>4</td>\n",
       "    </tr>\n",
       "  </tbody>\n",
       "</table>\n",
       "</div>"
      ],
      "text/plain": [
       "       County Location  Dwelling_Units_  Households  Habitable_Rooms_  \\\n",
       "0    NAIROBI   Overall          1229183      985016           1741017   \n",
       "1  NYANDARUA   Overall           285036      143879            501260   \n",
       "2  NYANDARUA    Rural            234446      113470            413130   \n",
       "3  NYANDARUA    Urban             50590       30409             88130   \n",
       "4      NYERI   Overall           383817      201703            703951   \n",
       "\n",
       "   Male_Population  Female_Population  Total_Population  Persons_per_room  \\\n",
       "0          1584836            1525025           3109861               1.8   \n",
       "1           291574             303847            595421               1.2   \n",
       "2           235473             245341            480814               1.2   \n",
       "3            56101              58506            114607               1.3   \n",
       "4           336556             352881            689437               1.0   \n",
       "\n",
       "                              County_Centroid  OBJECTID  \n",
       "0   (-1.2926489320000001, 36.864854780000002)         0  \n",
       "1  (-0.32014949999999998, 36.480091790000003)         1  \n",
       "2  (-0.32014949999999998, 36.480091790000003)         2  \n",
       "3  (-0.32014949999999998, 36.480091790000003)         3  \n",
       "4  (-0.34295653199999998, 36.953878789999997)         4  "
      ]
     },
     "execution_count": 37,
     "metadata": {},
     "output_type": "execute_result"
    }
   ],
   "source": [
    "df2 = df.copy()\n",
    "df2.head()"
   ]
  },
  {
   "cell_type": "markdown",
   "id": "e909fda1",
   "metadata": {},
   "source": [
    "<p>In order to carry out the encoding process, the <b>LabelEncoder</b> library is imported from <b>sklearn.preprocessing</b>. The function to the library is then stored in the variable <b>le</b> for ease of manipulation. After the encoding process, the data will be in the format outputed in the next cell below</p>"
   ]
  },
  {
   "cell_type": "code",
   "execution_count": 42,
   "id": "71ac675c",
   "metadata": {
    "scrolled": false
   },
   "outputs": [
    {
     "data": {
      "text/html": [
       "<div>\n",
       "<style scoped>\n",
       "    .dataframe tbody tr th:only-of-type {\n",
       "        vertical-align: middle;\n",
       "    }\n",
       "\n",
       "    .dataframe tbody tr th {\n",
       "        vertical-align: top;\n",
       "    }\n",
       "\n",
       "    .dataframe thead th {\n",
       "        text-align: right;\n",
       "    }\n",
       "</style>\n",
       "<table border=\"1\" class=\"dataframe\">\n",
       "  <thead>\n",
       "    <tr style=\"text-align: right;\">\n",
       "      <th></th>\n",
       "      <th>County</th>\n",
       "      <th>Location</th>\n",
       "      <th>Dwelling_Units_</th>\n",
       "      <th>Households</th>\n",
       "      <th>Habitable_Rooms_</th>\n",
       "      <th>Male_Population</th>\n",
       "      <th>Female_Population</th>\n",
       "      <th>Total_Population</th>\n",
       "      <th>Persons_per_room</th>\n",
       "      <th>County_Centroid</th>\n",
       "      <th>OBJECTID</th>\n",
       "    </tr>\n",
       "  </thead>\n",
       "  <tbody>\n",
       "    <tr>\n",
       "      <th>0</th>\n",
       "      <td>18</td>\n",
       "      <td>1</td>\n",
       "      <td>1229183</td>\n",
       "      <td>985016</td>\n",
       "      <td>1741017</td>\n",
       "      <td>1584836</td>\n",
       "      <td>1525025</td>\n",
       "      <td>3109861</td>\n",
       "      <td>1.8</td>\n",
       "      <td>12</td>\n",
       "      <td>0</td>\n",
       "    </tr>\n",
       "    <tr>\n",
       "      <th>1</th>\n",
       "      <td>19</td>\n",
       "      <td>1</td>\n",
       "      <td>285036</td>\n",
       "      <td>143879</td>\n",
       "      <td>501260</td>\n",
       "      <td>291574</td>\n",
       "      <td>303847</td>\n",
       "      <td>595421</td>\n",
       "      <td>1.2</td>\n",
       "      <td>3</td>\n",
       "      <td>1</td>\n",
       "    </tr>\n",
       "    <tr>\n",
       "      <th>2</th>\n",
       "      <td>19</td>\n",
       "      <td>2</td>\n",
       "      <td>234446</td>\n",
       "      <td>113470</td>\n",
       "      <td>413130</td>\n",
       "      <td>235473</td>\n",
       "      <td>245341</td>\n",
       "      <td>480814</td>\n",
       "      <td>1.2</td>\n",
       "      <td>3</td>\n",
       "      <td>2</td>\n",
       "    </tr>\n",
       "    <tr>\n",
       "      <th>3</th>\n",
       "      <td>19</td>\n",
       "      <td>3</td>\n",
       "      <td>50590</td>\n",
       "      <td>30409</td>\n",
       "      <td>88130</td>\n",
       "      <td>56101</td>\n",
       "      <td>58506</td>\n",
       "      <td>114607</td>\n",
       "      <td>1.3</td>\n",
       "      <td>3</td>\n",
       "      <td>3</td>\n",
       "    </tr>\n",
       "    <tr>\n",
       "      <th>4</th>\n",
       "      <td>20</td>\n",
       "      <td>1</td>\n",
       "      <td>383817</td>\n",
       "      <td>201703</td>\n",
       "      <td>703951</td>\n",
       "      <td>336556</td>\n",
       "      <td>352881</td>\n",
       "      <td>689437</td>\n",
       "      <td>1.0</td>\n",
       "      <td>4</td>\n",
       "      <td>4</td>\n",
       "    </tr>\n",
       "  </tbody>\n",
       "</table>\n",
       "</div>"
      ],
      "text/plain": [
       "   County  Location  Dwelling_Units_  Households  Habitable_Rooms_  \\\n",
       "0      18         1          1229183      985016           1741017   \n",
       "1      19         1           285036      143879            501260   \n",
       "2      19         2           234446      113470            413130   \n",
       "3      19         3            50590       30409             88130   \n",
       "4      20         1           383817      201703            703951   \n",
       "\n",
       "   Male_Population  Female_Population  Total_Population  Persons_per_room  \\\n",
       "0          1584836            1525025           3109861               1.8   \n",
       "1           291574             303847            595421               1.2   \n",
       "2           235473             245341            480814               1.2   \n",
       "3            56101              58506            114607               1.3   \n",
       "4           336556             352881            689437               1.0   \n",
       "\n",
       "   County_Centroid  OBJECTID  \n",
       "0               12         0  \n",
       "1                3         1  \n",
       "2                3         2  \n",
       "3                3         3  \n",
       "4                4         4  "
      ]
     },
     "execution_count": 42,
     "metadata": {},
     "output_type": "execute_result"
    }
   ],
   "source": [
    "from sklearn.preprocessing import LabelEncoder\n",
    "le = LabelEncoder()\n",
    "df2.loc[:, 'County'] = le.fit_transform(df2.County.values)\n",
    "df2.loc[:, 'Location'] = le.fit_transform(df2.Location.values)\n",
    "df2.loc[:, 'County_Centroid'] = le.fit_transform(df2.County_Centroid.values)\n",
    "df2.head()"
   ]
  },
  {
   "cell_type": "markdown",
   "id": "23cc9323",
   "metadata": {},
   "source": [
    "<h2>Scaling of the data</h2>\n",
    "<p>During this stage, data points are brought close to each other in order to reduce the number of dimensions of the data. This will make the data points to have an almost similar influence to the output that is to be obtained. To carry out the standard scaling process, the <b>StandardScaler</b> library is imported from <b>sklearn.preprocessing</b></p>"
   ]
  },
  {
   "cell_type": "code",
   "execution_count": null,
   "id": "b6c013dd",
   "metadata": {},
   "outputs": [],
   "source": [
    "#Standard scaling library\n",
    "from sklearn.preprocessing import StandardScaler"
   ]
  },
  {
   "cell_type": "markdown",
   "id": "67ecdde1",
   "metadata": {},
   "source": [
    "<p>The StandardScaler library is then fit to the duplicated data, <b>df2</b> as shown below:</p>"
   ]
  },
  {
   "cell_type": "code",
   "execution_count": 45,
   "id": "dc523f8d",
   "metadata": {
    "scrolled": true
   },
   "outputs": [
    {
     "data": {
      "text/plain": [
       "StandardScaler()"
      ]
     },
     "execution_count": 45,
     "metadata": {},
     "output_type": "execute_result"
    }
   ],
   "source": [
    "ss = StandardScaler()\n",
    "ss.fit(df2)"
   ]
  },
  {
   "cell_type": "markdown",
   "id": "77e72639",
   "metadata": {},
   "source": [
    "<p>The values are then scaled to a uniform value for uniformity throughout the whole process:</p>"
   ]
  },
  {
   "cell_type": "code",
   "execution_count": 74,
   "id": "93482907",
   "metadata": {
    "scrolled": true
   },
   "outputs": [],
   "source": [
    "scaled_df2 = ss.transform(df2)"
   ]
  },
  {
   "cell_type": "markdown",
   "id": "da369afc",
   "metadata": {},
   "source": [
    "<h2>Principal Component Analysis</h2>\n",
    "<p>The library that assists in the Principal Component Analysis process is imported as <b>PCA</b></p>"
   ]
  },
  {
   "cell_type": "code",
   "execution_count": 53,
   "id": "96f2aba6",
   "metadata": {},
   "outputs": [],
   "source": [
    "from sklearn.decomposition import PCA"
   ]
  },
  {
   "cell_type": "markdown",
   "id": "f8356300",
   "metadata": {},
   "source": [
    "<p>The cell below is used to reduce the dimensions of the data from 11 to 2:</p>"
   ]
  },
  {
   "cell_type": "code",
   "execution_count": 54,
   "id": "64f0f00a",
   "metadata": {},
   "outputs": [],
   "source": [
    "pca = PCA(n_components=2)"
   ]
  },
  {
   "cell_type": "code",
   "execution_count": 55,
   "id": "fff56dc0",
   "metadata": {
    "scrolled": true
   },
   "outputs": [
    {
     "data": {
      "text/plain": [
       "PCA(n_components=2)"
      ]
     },
     "execution_count": 55,
     "metadata": {},
     "output_type": "execute_result"
    }
   ],
   "source": [
    "pca.fit(scaled_df2)"
   ]
  },
  {
   "cell_type": "markdown",
   "id": "f09570b4",
   "metadata": {},
   "source": [
    "<p>The data whose dimensionality is reduced is then stored in the <b>trans_pca</b> array as shown in the cell below:</p>"
   ]
  },
  {
   "cell_type": "code",
   "execution_count": 78,
   "id": "731e88d5",
   "metadata": {},
   "outputs": [],
   "source": [
    "trans_pca = pca.transform(scaled_data)"
   ]
  },
  {
   "cell_type": "markdown",
   "id": "578797b3",
   "metadata": {},
   "source": [
    "<p>The cell below is used to confirm that the number of rows is still the same but the dimensionality (number of columns) have been changed</p>"
   ]
  },
  {
   "cell_type": "code",
   "execution_count": 62,
   "id": "83811dc3",
   "metadata": {},
   "outputs": [
    {
     "data": {
      "text/plain": [
       "(72, 2)"
      ]
     },
     "execution_count": 62,
     "metadata": {},
     "output_type": "execute_result"
    }
   ],
   "source": [
    "trans_pca.shape"
   ]
  },
  {
   "cell_type": "code",
   "execution_count": 63,
   "id": "1e67bbd8",
   "metadata": {},
   "outputs": [
    {
     "data": {
      "text/plain": [
       "(72, 11)"
      ]
     },
     "execution_count": 63,
     "metadata": {},
     "output_type": "execute_result"
    }
   ],
   "source": [
    "df.shape"
   ]
  },
  {
   "cell_type": "markdown",
   "id": "d3074702",
   "metadata": {},
   "source": [
    "<h2>Visualization of the data reduced in dimension</h2>"
   ]
  },
  {
   "cell_type": "code",
   "execution_count": 68,
   "id": "a4aa38bf",
   "metadata": {},
   "outputs": [
    {
     "data": {
      "text/plain": [
       "Text(0, 0.5, 'Second Principal Component')"
      ]
     },
     "execution_count": 68,
     "metadata": {},
     "output_type": "execute_result"
    },
    {
     "data": {
      "image/png": "[encoded data removed]",
      "text/plain": [
       "<Figure size 576x432 with 1 Axes>"
      ]
     },
     "metadata": {
      "needs_background": "light"
     },
     "output_type": "display_data"
    }
   ],
   "source": [
    "plt.figure(figsize=(8,6))\n",
    "plt.scatter(trans_pca[:,0],trans_pca[:,1],c=trans_pca[''],cmap='plasma')\n",
    "plt.xlabel('First principal component')\n",
    "plt.ylabel('Second Principal Component')"
   ]
  },
  {
   "cell_type": "code",
   "execution_count": null,
   "id": "cd9571ad",
   "metadata": {},
   "outputs": [],
   "source": []
  }
 ],
 "metadata": {
  "kernelspec": {
   "display_name": "Python 3 (ipykernel)",
   "language": "python",
   "name": "python3"
  },
  "language_info": {
   "codemirror_mode": {
    "name": "ipython",
    "version": 3
   },
   "file_extension": ".py",
   "mimetype": "text/x-python",
   "name": "python",
   "nbconvert_exporter": "python",
   "pygments_lexer": "ipython3",
   "version": "3.9.7"
  }
 },
 "nbformat": 4,
 "nbformat_minor": 5
}
